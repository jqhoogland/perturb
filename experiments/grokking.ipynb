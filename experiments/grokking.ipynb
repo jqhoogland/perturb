{
  "cells": [
    {
      "attachments": {},
      "cell_type": "markdown",
      "metadata": {
        "id": "7Hjo1SvXJok1"
      },
      "source": [
        "# All Noise No Signal: SGD is Asymptotically Brownian\n",
        "\n",
        "[Previously, I made the claim that singularities translate random motion at the bottom of loss basins into search for generalization](https://www.lesswrong.com/posts/2N7eEKDuL5sHQou3N/spooky-action-at-a-distance-in-the-loss-landscape). Complex singularities corresponding to simple functions \"trap\" the random motion, and these simple functions generalize better.\n",
        "\n",
        "Let's put that claim to the test. \n",
        "\n",
        "In particular, can we make models with low training error but high test error generalize simply by exploring the set of low loss points? In particular, if you take a pre-grokked model, can you make it grok via Hamiltonian MC once it's reached a minimum loss point?\n",
        "\n",
        "Here's the proposal: given a starting choice of weights $\\mathbf w \\in \\mathbb R^d$, explore the nearby space using Hamiltonian MC (or something fancier like NUTS). That is:\n",
        "1. Sample a momentum $\\mathbf p \\sim \\mathcal N(0, \\boldsymbol I_{d\\times d})$.\n",
        "2. Evolve according to the equations of motion, where we treat the loss over either (1) a batch or (2) the entire test set as the energy.\n",
        "3. Compare to the model obtained by training normally (via minibatch SGD/full-batch GD) in terms of test loss.  \n",
        "\n",
        "If my hypothesis is right, then we should expect the model to become more general even when we're no longer explicitly optimizing it (for better training loss / lower weight norms).\n",
        "\n",
        "\n",
        "Thanks to [Marius Hobbhahn](https://www.lesswrong.com/users/marius-hobbhahn) and [Neel Nanda](https://colab.research.google.com/drive/1F6_1_cWXE5M7WocUcpQWp3v8z4b1jL20) for their grokking code."
      ]
    },
    {
      "cell_type": "code",
      "execution_count": 1,
      "metadata": {
        "colab": {
          "base_uri": "https://localhost:8080/"
        },
        "id": "QMG4co7KJoJn",
        "outputId": "83a58c5a-d8b6-4540-a477-6027fa52a6ce"
      },
      "outputs": [
        {
          "name": "stdout",
          "output_type": "stream",
          "text": [
            "zsh:1: command not found: nvidia-smi\n",
            "Requirement already satisfied: einops in /Users/Jesse/.virtualenvs/notes/lib/python3.9/site-packages (0.6.0)\n",
            "\n",
            "\u001b[1m[\u001b[0m\u001b[34;49mnotice\u001b[0m\u001b[1;39;49m]\u001b[0m\u001b[39;49m A new release of pip available: \u001b[0m\u001b[31;49m22.2.2\u001b[0m\u001b[39;49m -> \u001b[0m\u001b[32;49m23.0\u001b[0m\n",
            "\u001b[1m[\u001b[0m\u001b[34;49mnotice\u001b[0m\u001b[1;39;49m]\u001b[0m\u001b[39;49m To update, run: \u001b[0m\u001b[32;49mpip install --upgrade pip\u001b[0m\n"
          ]
        }
      ],
      "source": [
        "!nvidia-smi\n",
        "!pip install einops "
      ]
    },
    {
      "attachments": {},
      "cell_type": "markdown",
      "metadata": {
        "id": "aQRKn3EUJtMJ"
      },
      "source": [
        "# Set-up"
      ]
    },
    {
      "cell_type": "markdown",
      "metadata": {},
      "source": [
        "## Imports"
      ]
    },
    {
      "cell_type": "code",
      "execution_count": 2,
      "metadata": {
        "id": "y-GhA10lDL2L"
      },
      "outputs": [],
      "source": [
        "import random\n",
        "import time\n",
        "from pathlib import Path\n",
        "import pickle\n",
        "import os\n",
        "import copy\n",
        "from collections import OrderedDict\n",
        "import functools\n",
        "import itertools\n",
        "import gc\n",
        "\n",
        "import numpy as np\n",
        "import matplotlib.pyplot as plt\n",
        "import einops\n",
        "import torch\n",
        "import torch.nn as nn\n",
        "import torch.nn.functional as F\n",
        "import torch.optim as optim\n",
        "from torch.utils.data import DataLoader\n",
        "from tqdm.notebook import tqdm, trange\n",
        "import plotly.express as px\n",
        "import plotly.io as pio\n",
        "import plotly.graph_objects as go\n",
        "import pandas as pd\n",
        "\n",
        "# pio.renderers.default = \"colab\"\n",
        "# %matplotlib inline"
      ]
    },
    {
      "attachments": {},
      "cell_type": "markdown",
      "metadata": {},
      "source": [
        "## Hyperparameters"
      ]
    },
    {
      "cell_type": "code",
      "execution_count": 3,
      "metadata": {
        "colab": {
          "base_uri": "https://localhost:8080/"
        },
        "id": "L-Hmy9yUejxr",
        "outputId": "25d7031a-2d3c-4ae1-d313-f0997b1984d5"
      },
      "outputs": [
        {
          "name": "stdout",
          "output_type": "stream",
          "text": [
            "cpu\n"
          ]
        }
      ],
      "source": [
        "DEVICE = torch.device(\"cuda\" if torch.cuda.is_available() else \"cpu\")\n",
        "print(DEVICE)"
      ]
    },
    {
      "cell_type": "code",
      "execution_count": 4,
      "metadata": {
        "id": "SbJtl3CqMkDg"
      },
      "outputs": [],
      "source": [
        "lr=1e-3 #@param\n",
        "weight_decay = 0.1 #@param \n",
        "p=113 #@param\n",
        "d_model = 128 #@param\n",
        "fn_name = 'add' #@param ['add', 'subtract', 'x2xyy2','rand']\n",
        "frac_train = 0.3 #@param\n",
        "NUM_EPOCHS = 1000 #@param\n",
        "save_models = False #@param\n",
        "save_every = 100 #@param\n",
        "# Stop training when test loss is <stopping_thresh\n",
        "stopping_thresh = -1 #@param\n",
        "seed = 0 #@param\n",
        "\n",
        "num_layers = 1\n",
        "batch_style = 'full'\n",
        "d_vocab = p+1 \n",
        "n_ctx = 3\n",
        "d_mlp = 4*d_model\n",
        "num_heads = 4\n",
        "assert d_model % num_heads == 0\n",
        "d_head = d_model//num_heads\n",
        "act_type = 'ReLU' #@param ['ReLU', 'GeLU']\n",
        "#batch_size = BATCH_SIZE"
      ]
    },
    {
      "attachments": {},
      "cell_type": "markdown",
      "metadata": {},
      "source": [
        "## Architecture"
      ]
    },
    {
      "cell_type": "code",
      "execution_count": 5,
      "metadata": {
        "id": "sVsD9dwKJ0zV"
      },
      "outputs": [],
      "source": [
        "class Embed(nn.Module):\n",
        "    def __init__(self, d_vocab, d_model):\n",
        "        super().__init__()\n",
        "        self.W_E = nn.Parameter(torch.randn(d_model, d_vocab)/np.sqrt(d_model))\n",
        "    \n",
        "    def forward(self, x):\n",
        "        return torch.einsum('dbp -> bpd', self.W_E[:, x])\n",
        "\n",
        "class Unembed(nn.Module):\n",
        "    def __init__(self, d_vocab, d_model):\n",
        "        super().__init__()\n",
        "        self.W_U = nn.Parameter(torch.randn(d_model, d_vocab)/np.sqrt(d_vocab))\n",
        "    \n",
        "    def forward(self, x):\n",
        "        return (x @ self.W_U)\n",
        "\n",
        "\n",
        "class PosEmbed(nn.Module):\n",
        "    def __init__(self, max_ctx, d_model):\n",
        "        super().__init__()\n",
        "        self.W_pos = nn.Parameter(torch.randn(max_ctx, d_model)/np.sqrt(d_model))\n",
        "    \n",
        "    def forward(self, x):\n",
        "        return x+self.W_pos[:x.shape[-2]]\n",
        "\n",
        "\n",
        "class LayerNorm(nn.Module):\n",
        "    def __init__(self, d_model, epsilon = 1e-4, model=[None]):\n",
        "        super().__init__()\n",
        "        self.model = model\n",
        "        self.w_ln = nn.Parameter(torch.ones(d_model))\n",
        "        self.b_ln = nn.Parameter(torch.zeros(d_model))\n",
        "        self.epsilon = epsilon\n",
        "    \n",
        "    def forward(self, x):\n",
        "        if self.model[0].use_ln:\n",
        "            x = x - x.mean(axis=-1)[..., None]\n",
        "            x = x / (x.std(axis=-1)[..., None] + self.epsilon)\n",
        "            x = x * self.w_ln\n",
        "            x = x + self.b_ln\n",
        "            return x\n",
        "        else:\n",
        "            return x\n",
        "\n",
        "\n",
        "class Attention(nn.Module):\n",
        "    def __init__(self, d_model, num_heads, d_head, n_ctx, model):\n",
        "        super().__init__()\n",
        "        self.model = model\n",
        "        self.W_K = nn.Parameter(torch.randn(num_heads, d_head, d_model)/np.sqrt(d_model))\n",
        "        self.W_Q = nn.Parameter(torch.randn(num_heads, d_head, d_model)/np.sqrt(d_model))\n",
        "        self.W_V = nn.Parameter(torch.randn(num_heads, d_head, d_model)/np.sqrt(d_model))\n",
        "        self.W_O = nn.Parameter(torch.randn(d_model, d_head * num_heads)/np.sqrt(d_model))\n",
        "        self.register_buffer('mask', torch.tril(torch.ones((n_ctx, n_ctx))))\n",
        "        self.d_head = d_head\n",
        "        \n",
        "    def forward(self, x):\n",
        "        k = torch.einsum('ihd,bpd->biph', self.W_K, x)\n",
        "        q = torch.einsum('ihd,bpd->biph', self.W_Q, x)\n",
        "        v = torch.einsum('ihd,bpd->biph', self.W_V, x)\n",
        "        attn_scores_pre = torch.einsum('biph,biqh->biqp', k, q)\n",
        "        attn_scores_masked = torch.tril(attn_scores_pre) - 1e10 * (1 - self.mask[:x.shape[-2], :x.shape[-2]])\n",
        "        attn_matrix = F.softmax(attn_scores_masked/np.sqrt(self.d_head), dim=-1)\n",
        "        z = torch.einsum('biph,biqp->biqh', v, attn_matrix)\n",
        "        z_flat = einops.rearrange(z, 'b i q h -> b q (i h)')\n",
        "        out = torch.einsum('df,bqf->bqd', self.W_O, z_flat)\n",
        "        return out\n",
        "\n",
        "\n",
        "class MLP(nn.Module):\n",
        "    def __init__(self, d_model, d_mlp, act_type, model):\n",
        "        super().__init__()\n",
        "        self.model = model\n",
        "        self.W_in = nn.Parameter(torch.randn(d_mlp, d_model)/np.sqrt(d_model))\n",
        "        self.b_in = nn.Parameter(torch.zeros(d_mlp))\n",
        "        self.W_out = nn.Parameter(torch.randn(d_model, d_mlp)/np.sqrt(d_model))\n",
        "        self.b_out = nn.Parameter(torch.zeros(d_model))\n",
        "        self.act_type = act_type\n",
        "        # self.ln = LayerNorm(d_mlp, model=self.model)\n",
        "        assert act_type in ['ReLU', 'GeLU']\n",
        "        \n",
        "    def forward(self, x):\n",
        "        x = torch.einsum('md,bpd->bpm', self.W_in, x) + self.b_in\n",
        "        \n",
        "        if self.act_type=='ReLU':\n",
        "            x = F.relu(x)\n",
        "        elif self.act_type=='GeLU':\n",
        "            x = F.gelu(x)\n",
        "        \n",
        "        x = torch.einsum('dm,bpm->bpd', self.W_out, x) + self.b_out\n",
        "        return x\n",
        "\n",
        "\n",
        "class TransformerBlock(nn.Module):\n",
        "    def __init__(self, d_model, d_mlp, d_head, num_heads, n_ctx, act_type, model):\n",
        "        super().__init__()\n",
        "        self.model = model\n",
        "        # self.ln1 = LayerNorm(d_model, model=self.model)\n",
        "        self.attn = Attention(d_model, num_heads, d_head, n_ctx, model=self.model)\n",
        "        # self.ln2 = LayerNorm(d_model, model=self.model)\n",
        "        self.mlp = MLP(d_model, d_mlp, act_type, model=self.model)\n",
        "    \n",
        "    def forward(self, x):\n",
        "        x = x + self.attn(x)\n",
        "        x = x + self.mlp((x))\n",
        "        return x\n",
        "\n",
        "\n",
        "class Transformer(nn.Module):\n",
        "    def __init__(self, num_layers, d_vocab, d_model, d_mlp, d_head, num_heads, n_ctx, act_type, use_ln=True):\n",
        "        super().__init__()\n",
        "\n",
        "        self.embed = Embed(d_vocab, d_model)\n",
        "        self.pos_embed = PosEmbed(n_ctx, d_model)\n",
        "        self.blocks = nn.ModuleList([TransformerBlock(d_model, d_mlp, d_head, num_heads, n_ctx, act_type, model=[self]) for i in range(num_layers)])\n",
        "        # self.ln = LayerNorm(d_model, model=[self])\n",
        "        self.unembed = Unembed(d_vocab, d_model)\n",
        "        self.use_ln = use_ln\n",
        "    \n",
        "    def forward(self, x):\n",
        "        x = self.embed(x)\n",
        "        x = self.pos_embed(x)\n",
        "        for block in self.blocks:\n",
        "            x = block(x)\n",
        "        # x = self.ln(x)\n",
        "        x = self.unembed(x)\n",
        "        return x\n"
      ]
    },
    {
      "cell_type": "code",
      "execution_count": 6,
      "metadata": {
        "id": "WtNSxWvUeJQf"
      },
      "outputs": [],
      "source": [
        "def cross_entropy_high_precision(logits, labels):\n",
        "    # Shapes: batch x vocab, batch  \n",
        "    # Cast logits to float64 because log_softmax has a float32 underflow on overly \n",
        "    # confident data and can only return multiples of 1.2e-7 (the smallest float x\n",
        "    # such that 1+x is different from 1 in float32). This leads to loss spikes \n",
        "    # and dodgy gradients\n",
        "    logprobs = F.log_softmax(logits.to(torch.float64), dim=-1)\n",
        "    prediction_logprobs = torch.gather(logprobs, index=labels[:, None], dim=-1)\n",
        "    loss = -torch.mean(prediction_logprobs)\n",
        "    return loss\n",
        "\n",
        "def full_loss(model, data):\n",
        "    # Take the final position only\n",
        "    logits = model(data)[:, -1]\n",
        "    labels = torch.tensor([fn(i, j) for i, j, _ in data]).to('cuda')\n",
        "    return cross_entropy_high_precision(logits, labels)"
      ]
    },
    {
      "cell_type": "code",
      "execution_count": 7,
      "metadata": {
        "colab": {
          "base_uri": "https://localhost:8080/"
        },
        "id": "jJj8C0ddWAia",
        "outputId": "0a8f7cbf-1ecd-46b4-95e5-08969423f235"
      },
      "outputs": [
        {
          "data": {
            "text/plain": [
              "<torch._C.Generator at 0x14028b330>"
            ]
          },
          "execution_count": 7,
          "metadata": {},
          "output_type": "execute_result"
        }
      ],
      "source": [
        "## set torch seed \n",
        "SEED = 0\n",
        "torch.manual_seed(SEED)"
      ]
    },
    {
      "attachments": {},
      "cell_type": "markdown",
      "metadata": {
        "id": "kQQztyYeRQEx"
      },
      "source": [
        "# Data\n",
        "\n",
        "As described in Neel's post, every input sequence is of the form `(i, j, num)` where the target is `i+j mod num`"
      ]
    },
    {
      "cell_type": "code",
      "execution_count": 8,
      "metadata": {
        "colab": {
          "base_uri": "https://localhost:8080/"
        },
        "id": "YJC_ppDnHGFi",
        "outputId": "d4f810ce-c38d-4c0c-85d4-8a99982c2629"
      },
      "outputs": [
        {
          "name": "stdout",
          "output_type": "stream",
          "text": [
            "3830 8939\n",
            "[(18, 34, 113), (10, 83, 113), (55, 28, 113), (25, 51, 113), (63, 65, 113), (14, 104, 113), (27, 56, 113), (35, 77, 113), (41, 72, 113), (17, 111, 113)]\n",
            "[(50, 67, 113), (92, 107, 113), (29, 14, 113), (76, 53, 113), (78, 80, 113), (77, 58, 113), (97, 1, 113), (39, 59, 113), (95, 73, 113), (38, 40, 113)]\n"
          ]
        }
      ],
      "source": [
        "def gen_train_test(frac_train = 0.3, num = 113, seed=0):\n",
        "    # Generate train and test split\n",
        "    pairs = [(i, j, num) for i in range(num) for j in range(num)]\n",
        "    random.seed(seed)\n",
        "    random.shuffle(pairs)\n",
        "    div = int(frac_train*len(pairs))\n",
        "    return pairs[:div], pairs[div:]\n",
        "\n",
        "train_x, test_x = gen_train_test(frac_train, 113, seed=0)\n",
        "print(len(train_x), len(test_x))\n",
        "\n",
        "print(train_x[:10])\n",
        "print(test_x[:10])"
      ]
    },
    {
      "cell_type": "code",
      "execution_count": 9,
      "metadata": {
        "colab": {
          "base_uri": "https://localhost:8080/"
        },
        "id": "U2hZ_EotSjjP",
        "outputId": "e784892b-e61b-4583-b3fb-489a45b6d310"
      },
      "outputs": [
        {
          "name": "stdout",
          "output_type": "stream",
          "text": [
            "1\n",
            "tensor([[ 18,  34, 113],\n",
            "        [ 10,  83, 113],\n",
            "        [ 55,  28, 113],\n",
            "        [ 25,  51, 113],\n",
            "        [ 63,  65, 113],\n",
            "        [ 14, 104, 113],\n",
            "        [ 27,  56, 113],\n",
            "        [ 35,  77, 113],\n",
            "        [ 41,  72, 113],\n",
            "        [ 17, 111, 113]])\n",
            "tensor([ 52,  93,  83,  76,  15,   5,  83, 112,   0,  15])\n"
          ]
        }
      ],
      "source": [
        "### create training and test samples in batches\n",
        "\n",
        "def collate_batch(batch):\n",
        "    label_list = [(i+j) % num for (i,j,num) in batch]\n",
        "    label_list = torch.tensor(label_list, dtype=torch.int64)\n",
        "    input_list = [torch.tensor(x) for x in batch]\n",
        "    input_list = torch.cat(input_list).view(len(label_list), -1)\n",
        "    return input_list.to(DEVICE), label_list.to(DEVICE)\n",
        "\n",
        "# one batch per loader\n",
        "train_loader = DataLoader(train_x, batch_size=len(train_x), collate_fn=collate_batch)\n",
        "test_loader = DataLoader(test_x, batch_size=len(test_x), collate_fn=collate_batch)\n",
        "\n",
        "print(len(train_loader))\n",
        "for x, y in train_loader:\n",
        "    print(x[:10])\n",
        "    print(y[:10])"
      ]
    },
    {
      "cell_type": "code",
      "execution_count": 10,
      "metadata": {
        "id": "jVNVSf5QHrvg"
      },
      "outputs": [],
      "source": [
        "def loss_of_final_number(logits, labels):\n",
        "    # only look at predictions of last numbers\n",
        "    logits = logits[:,-1]\n",
        "    # compute individual and summed losses for final number\n",
        "    logprobs = F.log_softmax(logits.to(torch.float64), dim=-1)\n",
        "    prediction_logprobs = torch.gather(logprobs, index=labels.unsqueeze(1), dim=-1)\n",
        "    loss = -torch.mean(prediction_logprobs)\n",
        "    return loss"
      ]
    },
    {
      "attachments": {},
      "cell_type": "markdown",
      "metadata": {
        "id": "i-uw7vjcMPs2"
      },
      "source": [
        "# Training"
      ]
    },
    {
      "cell_type": "code",
      "execution_count": 43,
      "metadata": {
        "id": "OvGgSJO0iNW7"
      },
      "outputs": [],
      "source": [
        "model = Transformer(num_layers=num_layers, d_vocab=d_vocab, d_model=d_model, d_mlp=d_mlp, \n",
        "                    d_head=d_head, num_heads=num_heads, n_ctx=n_ctx, act_type=act_type, use_ln=False).to(DEVICE)\n",
        "optimizer = optim.AdamW(model.parameters(), lr=lr, weight_decay=weight_decay, betas=(0.9, 0.98))\n",
        "scheduler = optim.lr_scheduler.LambdaLR(optimizer, lambda step: min(step/10, 1))"
      ]
    },
    {
      "cell_type": "code",
      "execution_count": 45,
      "metadata": {
        "colab": {
          "base_uri": "https://localhost:8080/"
        },
        "id": "TAvIGoOvJ0wa",
        "outputId": "a442c1a8-05e6-4e35-ba01-3425d5720410"
      },
      "outputs": [
        {
          "data": {
            "application/vnd.jupyter.widget-view+json": {
              "model_id": "d755246a133243569bc59a1c9bceff2c",
              "version_major": 2,
              "version_minor": 0
            },
            "text/plain": [
              "Epoch:   0%|          | 0/1000 [00:00<?, ?it/s]"
            ]
          },
          "metadata": {},
          "output_type": "display_data"
        },
        {
          "name": "stdout",
          "output_type": "stream",
          "text": [
            "epoch 0; training loss 4.773319524005533;\n",
            "training acc 0.009660574607551098;\n",
            "test loss: 4.77188949513312\n",
            "test acc: 0.008949547074735165\n",
            "\n",
            "\n",
            "epoch 100; training loss 1.9623976399313452;\n",
            "training acc 0.5438642501831055;\n",
            "test loss: 7.800757557981267\n",
            "test acc: 0.05973822623491287\n",
            "\n",
            "\n",
            "epoch 200; training loss 0.0050438199501800516;\n",
            "training acc 1.0;\n",
            "test loss: 17.254595311044955\n",
            "test acc: 0.18301823735237122\n",
            "\n",
            "\n",
            "epoch 300; training loss 0.0013440864062045448;\n",
            "training acc 1.0;\n",
            "test loss: 19.0177789492313\n",
            "test acc: 0.19308647513389587\n",
            "\n",
            "\n",
            "epoch 400; training loss 0.0004036355514643523;\n",
            "training acc 1.0;\n",
            "test loss: 20.606240596609727\n",
            "test acc: 0.2020360231399536\n",
            "\n",
            "\n",
            "epoch 500; training loss 0.00012540983364308275;\n",
            "training acc 1.0;\n",
            "test loss: 22.13675208863424\n",
            "test acc: 0.2077413648366928\n",
            "\n",
            "\n",
            "epoch 600; training loss 3.990044573847931e-05;\n",
            "training acc 1.0;\n",
            "test loss: 23.623195682844766\n",
            "test acc: 0.21188051998615265\n",
            "\n",
            "\n",
            "epoch 700; training loss 1.2967398023720146e-05;\n",
            "training acc 1.0;\n",
            "test loss: 25.075477902771738\n",
            "test acc: 0.21546034514904022\n",
            "\n",
            "\n",
            "epoch 800; training loss 4.294733506806737e-06;\n",
            "training acc 1.0;\n",
            "test loss: 26.495048707586854\n",
            "test acc: 0.21836894750595093\n",
            "\n",
            "\n",
            "epoch 900; training loss 1.4607414506865753e-06;\n",
            "training acc 1.0;\n",
            "test loss: 27.869987245723152\n",
            "test acc: 0.2200469821691513\n",
            "\n",
            "\n"
          ]
        }
      ],
      "source": [
        "# train\n",
        "train_losses = []\n",
        "test_losses = []\n",
        "train_accs = []\n",
        "test_accs = []\n",
        "\n",
        "weights_epochs = {}\n",
        "grads_epochs = {}\n",
        "\n",
        "for i in trange(NUM_EPOCHS, desc=\"Epoch\"):\n",
        "    final_digit_loss = 0\n",
        "    for j, (x, y) in enumerate(train_loader):\n",
        "\n",
        "        optimizer.zero_grad()\n",
        "        x, y = x.to(DEVICE), y.to(DEVICE)\n",
        "        out = model(x)\n",
        "        train_loss = loss_of_final_number(out, y)\n",
        "        sm_argmax = nn.functional.softmax(out, dim=-1).argmax(dim=-1)[:, -1].detach()\n",
        "        correct = (y == sm_argmax.view(-1)).detach()\n",
        "\n",
        "        train_loss.backward()\n",
        "        optimizer.step()\n",
        "\n",
        "        final_digit_loss += train_loss.item()\n",
        "\n",
        "    scheduler.step()\n",
        "    train_losses.append(final_digit_loss)\n",
        "    train_accs.append(correct.float().mean().item())\n",
        "\n",
        "    if i % save_every == 0:\n",
        "        print(\"epoch {}; training loss {};\".format(i, final_digit_loss))\n",
        "        print(\"training acc {};\".format(correct.float().mean()))\n",
        "        # run a test every N iterations\n",
        "        for x, y in test_loader:\n",
        "\n",
        "            x, y = x.to(DEVICE), y.to(DEVICE)\n",
        "            out = model(x)\n",
        "            test_loss = loss_of_final_number(out, y)\n",
        "            sm_argmax = nn.functional.softmax(out, dim=-1).argmax(dim=-1)[:, -1].detach()\n",
        "            correct = (y == sm_argmax.view(-1)).detach()\n",
        "\n",
        "        print(\"test loss: {}\".format(test_loss.item()))\n",
        "        print(\"test acc: {}\".format(correct.float().mean()))\n",
        "        test_losses.append(test_loss.item())\n",
        "        test_accs.append(correct.float().mean().item())\n",
        "\n",
        "        print(\"\\n\")\n",
        "\n",
        "        # store the weights\n",
        "        weights_epochs[\"weights_epoch_{}\".format(i)] = copy.deepcopy(model.state_dict())\n",
        "\n",
        "        # get and store gradients\n",
        "        gradient_dict = OrderedDict()\n",
        "        for name, param in model.named_parameters():\n",
        "            gradient_dict[\"grad_{}\".format(name)] = copy.deepcopy(param.grad)\n",
        "\n",
        "        grads_epochs[\"grads_epoch_{}\".format(i)] = gradient_dict\n"
      ]
    },
    {
      "cell_type": "code",
      "execution_count": 47,
      "metadata": {
        "colab": {
          "base_uri": "https://localhost:8080/"
        },
        "id": "BPYjsCjBHE5_",
        "outputId": "a251bde7-7e83-4692-d699-4ddaf4589e05"
      },
      "outputs": [
        {
          "name": "stdout",
          "output_type": "stream",
          "text": [
            "torch.Size([3830, 3])\n",
            "input:  tensor([[ 18,  34, 113],\n",
            "        [ 10,  83, 113],\n",
            "        [ 55,  28, 113],\n",
            "        [ 25,  51, 113],\n",
            "        [ 63,  65, 113],\n",
            "        [ 14, 104, 113],\n",
            "        [ 27,  56, 113],\n",
            "        [ 35,  77, 113],\n",
            "        [ 41,  72, 113],\n",
            "        [ 17, 111, 113]])\n",
            "label:  tensor([ 52,  93,  83,  76,  15,   5,  83, 112,   0,  15])\n",
            "argmax prediction:  tensor([ 52,  93,  83,  76,  15,   5,  83, 112,   0,  15])\n",
            "same:  tensor([True, True, True, True, True, True, True, True, True, True])\n"
          ]
        }
      ],
      "source": [
        "## did it learn the training dist?\n",
        "for x, y in train_loader:\n",
        "    out = model(x.to(DEVICE))\n",
        "    sm_argmax = nn.functional.softmax(out, dim=-1).argmax(dim=-1)[:10, -1].detach()\n",
        "    input = x[:10, :]\n",
        "    print(x.size())\n",
        "    print(\"input: \", input)\n",
        "    label = y[:10]\n",
        "    print(\"label: \", label[:10])\n",
        "    print(\"argmax prediction: \", sm_argmax)\n",
        "    print(\"same: \", label[:10] == sm_argmax)\n",
        "    break"
      ]
    },
    {
      "cell_type": "code",
      "execution_count": 48,
      "metadata": {
        "colab": {
          "base_uri": "https://localhost:8080/"
        },
        "id": "TrvXHoIdqh_y",
        "outputId": "42389308-f8da-4b7a-8d46-932ce223e371"
      },
      "outputs": [
        {
          "name": "stdout",
          "output_type": "stream",
          "text": [
            "torch.Size([8939, 3])\n",
            "input:  tensor([[ 50,  67, 113],\n",
            "        [ 92, 107, 113],\n",
            "        [ 29,  14, 113],\n",
            "        [ 76,  53, 113],\n",
            "        [ 78,  80, 113],\n",
            "        [ 77,  58, 113],\n",
            "        [ 97,   1, 113],\n",
            "        [ 39,  59, 113],\n",
            "        [ 95,  73, 113],\n",
            "        [ 38,  40, 113]])\n",
            "label:  tensor([ 4, 86, 43, 16, 45, 22, 98, 98, 55, 78])\n",
            "argmax prediction:  tensor([ 74,  86,  92,  33,  45,  91,  87, 112,  98,  68])\n",
            "same:  tensor([False,  True, False, False,  True, False, False, False, False, False])\n"
          ]
        }
      ],
      "source": [
        "## test stuff\n",
        "\n",
        "for x, y in test_loader:\n",
        "    out = model(x.to(DEVICE))\n",
        "    sm_argmax = nn.functional.softmax(out, dim=-1).argmax(dim=-1)[:10, -1].detach()\n",
        "    input = x[:10, :]\n",
        "    print(x.size())\n",
        "    print(\"input: \", input)\n",
        "    label = y[:10]\n",
        "    print(\"label: \", label[:10])\n",
        "    print(\"argmax prediction: \", sm_argmax)\n",
        "    print(\"same: \", label[:10] == sm_argmax)\n",
        "    break"
      ]
    },
    {
      "cell_type": "code",
      "execution_count": 49,
      "metadata": {
        "colab": {
          "base_uri": "https://localhost:8080/",
          "height": 874
        },
        "id": "zH0kbwG7J0ro",
        "outputId": "e5e33ce3-967d-4493-d797-84b809f930fe"
      },
      "outputs": [
        {
          "data": {
            "image/png": "[encoded data removed]",
            "text/plain": [
              "<Figure size 1500x1050 with 2 Axes>"
            ]
          },
          "metadata": {},
          "output_type": "display_data"
        }
      ],
      "source": [
        "## plot the training and test loss\n",
        "x_train = np.arange(len(train_losses)) \n",
        "x_test = np.arange(len(test_losses)) * save_every\n",
        " \n",
        "fig, ax = plt.subplots(2,1,figsize=(10, 7), dpi=150)\n",
        "\n",
        "ax[0].grid()\n",
        "ax[0].plot(x_train, train_losses, color=\"cornflowerblue\", label=\"train loss\")\n",
        "ax[0].plot(x_test, test_losses, color=\"firebrick\", label=\"test loss\")\n",
        "ax[0].legend()\n",
        "ax[0].set_yscale(\"log\")\n",
        "\n",
        "ax[1].grid()\n",
        "ax[1].plot(x_train, train_accs, color=\"cornflowerblue\", label=\"train acc\")\n",
        "ax[1].plot(x_test, test_accs, color=\"firebrick\", label=\"test acc\")\n",
        "ax[1].legend()\n",
        "\n",
        "plt.show()"
      ]
    },
    {
      "attachments": {},
      "cell_type": "markdown",
      "metadata": {
        "id": "ZYXRmc17J0pF"
      },
      "source": [
        "# Let's inject some noise\n",
        "\n",
        "At this point, the model has excellent training loss, but terrible test loss. \n",
        "\n",
        "Let's continue with four variants:\n",
        "1. Train with Adam but no weight decay\n",
        "2. Train with Adam and weight decay\n",
        "3. Hamiltonian MC with no weight decay\n",
        "4. Hamiltonian MC with weight decay"
      ]
    },
    {
      "cell_type": "code",
      "execution_count": 51,
      "metadata": {
        "id": "cccGFVxBJ0m1"
      },
      "outputs": [],
      "source": [
        "# Save a checkpoint\n",
        "\n",
        "checkpoint = model.state_dict()\n",
        "path = Path(\"grokking/checkpoint-1000.pt\")\n",
        "path.parent.mkdir(parents=True, exist_ok=True)\n",
        "torch.save(checkpoint, path)    "
      ]
    },
    {
      "cell_type": "code",
      "execution_count": 11,
      "metadata": {},
      "outputs": [],
      "source": [
        "from typing import Optional\n",
        "\n",
        "\n",
        "class HMC(optim.Optimizer):\n",
        "    start_loss: Optional[torch.Tensor] = None\n",
        "\n",
        "    def __init__(self, params, lr=1e-3, weight_decay=0., beta=0.9, mass=1.) -> None:\n",
        "        super().__init__(params, dict(lr=lr, weight_decay=weight_decay, beta=beta, mass=mass))\n",
        "        \n",
        "        self.hyperparams = dict(lr=lr, weight_decay=weight_decay, beta=beta, mass=mass)\n",
        "        self.params = self.param_groups[0]['params']\n",
        "\n",
        "        self.start = None\n",
        "        self.start = self.new_start()\n",
        "        \n",
        "        self.momentum = self.sample_momentum()\n",
        "        self.start_loss = None\n",
        "        self._step = 0\n",
        "\n",
        "    def step(self, loss: torch.Tensor):\n",
        "        # TODO: Consider leapfrogging (my guess is that most of the error comes from the minibatch approximation)\n",
        "        \n",
        "        if self.start_loss is None:\n",
        "            self.start_loss = loss.clone()\n",
        "        \n",
        "        self.momentum \n",
        "\n",
        "        for m, p in zip(self.momentum, self.params):\n",
        "            m.data.sub_((self.hyperparams['lr']) * (p.grad + self.hyperparams['weight_decay'] * p))\n",
        "            p.data.add_(m * self.hyperparams['lr'] / self.hyperparams['mass'])\n",
        "\n",
        "        self._step += 1\n",
        "\n",
        "    def mh_check(self, loss: torch.Tensor):\n",
        "        # Metropolis-Hasting acceptance step to account for numerical error + approximation over minibatch\n",
        "        is_accepted = torch.rand(1) < torch.exp(self.start_loss - loss)\n",
        "        \n",
        "        if is_accepted:\n",
        "            self.new_start()\n",
        "            self.start_loss = loss.clone()\n",
        "            self.momentum = self.sample_momentum()\n",
        "        else:\n",
        "            self.restart()\n",
        "\n",
        "        return is_accepted\n",
        "\n",
        "    def new_start(self):\n",
        "        \"\"\"Start a new trajectory at the current params\"\"\"\n",
        "        if self.start is None:\n",
        "            self.start = tuple((\n",
        "                p.data.clone().detach()\n",
        "                for p in self.params\n",
        "            ))\n",
        "        else:\n",
        "            for p, start in zip(self.params, self.start):\n",
        "                start.data = p.data\n",
        "\n",
        "        return self.start\n",
        "    \n",
        "    def restart(self):\n",
        "        \"\"\"Restart the current params to the start of the current trajectory\"\"\"\n",
        "        for p, start in zip(self.params, self.start):\n",
        "            p.data = start\n",
        "        \n",
        "    def sample_momentum(self):\n",
        "        \"\"\"Sample a new momentum vector from a standard normal distribution with variance beta\"\"\"\n",
        "        return tuple(\n",
        "            torch.randn(p.shape) * self.hyperparams['beta']\n",
        "            for p in self.params\n",
        "        )"
      ]
    },
    {
      "cell_type": "code",
      "execution_count": 13,
      "metadata": {
        "id": "nFdsQBwGJ0kf"
      },
      "outputs": [],
      "source": [
        "checkpoint = torch.load(\"grokking/checkpoint-1000.pt\")\n",
        "\n",
        "# Make the variants\n",
        "kwargs = dict(num_layers=num_layers, d_vocab=d_vocab, d_model=d_model, d_mlp=d_mlp,\n",
        "              d_head=d_head, num_heads=num_heads, n_ctx=n_ctx, act_type=act_type, use_ln=False)\n",
        "\n",
        "model = Transformer(**kwargs)\n",
        "model.load_state_dict(checkpoint)\n",
        "\n",
        "adam_no_wd = copy.deepcopy(model)\n",
        "adam_wd = copy.deepcopy(model)\n",
        "hmc_no_wd = copy.deepcopy(model) \n",
        "hmc_wd = copy.deepcopy(model)\n",
        "\n",
        "models = [adam_no_wd, adam_wd, hmc_no_wd, hmc_wd]\n",
        "model_names = [\"Adam\", \"Adam_WD\", \"HMC\", \"HMC_WD\"]\n",
        "\n",
        "optimizers = [\n",
        "    optim.AdamW(adam_no_wd.parameters(), lr=lr, weight_decay=0, betas=(0.9, 0.98)),\n",
        "    optim.AdamW(adam_no_wd.parameters(), lr=lr, weight_decay=weight_decay, betas=(0.9, 0.98)),\n",
        "    HMC(hmc_no_wd.parameters(), lr=lr, weight_decay=0, beta=0.9),\n",
        "    HMC(hmc_no_wd.parameters(), lr=lr, weight_decay=weight_decay, beta=0.9)\n",
        "]\n",
        "\n",
        "schedulers = [\n",
        "    optim.lr_scheduler.LambdaLR(optimizer, lambda step: min(step / 10, 1))\n",
        "    for optimizer in optimizers\n",
        "]\n"
      ]
    },
    {
      "cell_type": "code",
      "execution_count": 15,
      "metadata": {
        "id": "bmHyBzxJJ0h8"
      },
      "outputs": [],
      "source": [
        "n_epochs = 10000\n",
        "\n",
        "# train\n",
        "_df_full = [\n",
        "    {\"model\": name, \"epoch\": i, \"L_train\": 0, \"acc_train\": 0, \"L_train_with_wd\": 0, \"L_test\": 0, \"acc_test\": 0, \"L_test_with_wd\": 0, \"wd\": 0}\n",
        "    for i in range(n_epochs // save_every)\n",
        "    for name, model in zip(model_names, models)\n",
        "]\n",
        "\n",
        "_df_min = [\n",
        "    {\"model\": name, \"epoch\": i, \"L_train\": 0, \"acc_train\": 0}\n",
        "    for i in range(n_epochs)\n",
        "    for name, model in zip(model_names, models)\n",
        "]\n",
        "\n",
        "df_full = pd.DataFrame(_df_full)\n",
        "df_min = pd.DataFrame(_df_min)"
      ]
    },
    {
      "cell_type": "code",
      "execution_count": 16,
      "metadata": {
        "id": "UzkKT73XJ0fR"
      },
      "outputs": [
        {
          "data": {
            "application/vnd.jupyter.widget-view+json": {
              "model_id": "c7230b687eac43ae857fc8b0b7189043",
              "version_major": 2,
              "version_minor": 0
            },
            "text/plain": [
              "Epoch:   0%|          | 0/10000 [00:00<?, ?it/s]"
            ]
          },
          "metadata": {},
          "output_type": "display_data"
        },
        {
          "name": "stdout",
          "output_type": "stream",
          "text": [
            "Epoch 0\n",
            "# accepted epochs:  [1. 1.]\n",
            "     model       L_train  acc_train     L_test  acc_test          wd\n",
            "0     Adam  5.221386e-07       5812  29.162167         0  472.883398\n",
            "1  Adam_WD  5.221386e-07       5812  29.162167         0  472.883398\n",
            "2      HMC  5.221386e-07       5833  29.161891         0  472.908936\n",
            "3   HMC_WD  5.221386e-07       5812  29.162167         0  472.883398\n"
          ]
        },
        {
          "name": "stderr",
          "output_type": "stream",
          "text": [
            "/var/folders/pw/6c492xhs4299155z1pvbwt8w0000gn/T/ipykernel_93492/2350782389.py:89: UserWarning: Matplotlib is currently using module://matplotlib_inline.backend_inline, which is a non-GUI backend, so cannot show the figure.\n",
            "  fig.show()\n"
          ]
        },
        {
          "name": "stdout",
          "output_type": "stream",
          "text": [
            "Epoch 10\n",
            "# accepted epochs:  [11. 11.]\n",
            "     model       L_train  acc_train     L_test  acc_test          wd\n",
            "4     Adam  3.297989e-07       5820  30.052455         0  476.040479\n",
            "5  Adam_WD  5.221386e-07       5812  29.162167         0  472.883398\n",
            "6      HMC  1.534938e-06       5784  29.296617         0  473.324854\n",
            "7   HMC_WD  5.221386e-07       5812  29.162167         0  472.883398\n"
          ]
        },
        {
          "name": "stderr",
          "output_type": "stream",
          "text": [
            "/var/folders/pw/6c492xhs4299155z1pvbwt8w0000gn/T/ipykernel_93492/2350782389.py:89: UserWarning: Matplotlib is currently using module://matplotlib_inline.backend_inline, which is a non-GUI backend, so cannot show the figure.\n",
            "  fig.show()\n"
          ]
        },
        {
          "name": "stdout",
          "output_type": "stream",
          "text": [
            "Epoch 20\n",
            "# accepted epochs:  [21. 21.]\n",
            "      model       L_train  acc_train     L_test  acc_test          wd\n",
            "8      Adam  1.450784e-07       5832  31.234560         0  480.031689\n",
            "9   Adam_WD  5.221386e-07       5812  29.162167         0  472.883398\n",
            "10      HMC  4.753735e-06       5775  29.342393         0  473.627295\n",
            "11   HMC_WD  5.221386e-07       5812  29.162167         0  472.883398\n"
          ]
        },
        {
          "name": "stderr",
          "output_type": "stream",
          "text": [
            "/var/folders/pw/6c492xhs4299155z1pvbwt8w0000gn/T/ipykernel_93492/2350782389.py:89: UserWarning: Matplotlib is currently using module://matplotlib_inline.backend_inline, which is a non-GUI backend, so cannot show the figure.\n",
            "  fig.show()\n"
          ]
        },
        {
          "name": "stdout",
          "output_type": "stream",
          "text": [
            "Epoch 30\n",
            "# accepted epochs:  [31. 31.]\n",
            "      model       L_train  acc_train     L_test  acc_test          wd\n",
            "12     Adam  8.838241e-08       5834  31.939215         0  482.212598\n",
            "13  Adam_WD  5.221386e-07       5812  29.162167         0  472.883398\n",
            "14      HMC  1.691970e-05       5785  29.458912         0  473.970215\n",
            "15   HMC_WD  5.221386e-07       5812  29.162167         0  472.883398\n"
          ]
        },
        {
          "name": "stderr",
          "output_type": "stream",
          "text": [
            "/var/folders/pw/6c492xhs4299155z1pvbwt8w0000gn/T/ipykernel_93492/2350782389.py:89: UserWarning: Matplotlib is currently using module://matplotlib_inline.backend_inline, which is a non-GUI backend, so cannot show the figure.\n",
            "  fig.show()\n"
          ]
        },
        {
          "name": "stdout",
          "output_type": "stream",
          "text": [
            "Epoch 40\n",
            "# accepted epochs:  [41. 41.]\n",
            "      model       L_train  acc_train     L_test  acc_test          wd\n",
            "16     Adam  6.589974e-08       5842  32.346176         0  483.322656\n",
            "17  Adam_WD  5.221386e-07       5812  29.162167         0  472.883398\n",
            "18      HMC  4.304612e-05       5765  29.487212         0  474.304834\n",
            "19   HMC_WD  5.221386e-07       5812  29.162167         0  472.883398\n"
          ]
        },
        {
          "name": "stderr",
          "output_type": "stream",
          "text": [
            "/var/folders/pw/6c492xhs4299155z1pvbwt8w0000gn/T/ipykernel_93492/2350782389.py:89: UserWarning: Matplotlib is currently using module://matplotlib_inline.backend_inline, which is a non-GUI backend, so cannot show the figure.\n",
            "  fig.show()\n"
          ]
        },
        {
          "name": "stdout",
          "output_type": "stream",
          "text": [
            "Epoch 50\n",
            "# accepted epochs:  [51. 51.]\n",
            "      model       L_train  acc_train     L_test  acc_test          wd\n",
            "20     Adam  5.499165e-08       5841  32.590726         0  483.855566\n",
            "21  Adam_WD  5.221386e-07       5812  29.162167         0  472.883398\n",
            "22      HMC  8.264582e-05       5758  29.541321         0  474.647363\n",
            "23   HMC_WD  5.221386e-07       5812  29.162167         0  472.883398\n"
          ]
        },
        {
          "name": "stderr",
          "output_type": "stream",
          "text": [
            "/var/folders/pw/6c492xhs4299155z1pvbwt8w0000gn/T/ipykernel_93492/2350782389.py:89: UserWarning: Matplotlib is currently using module://matplotlib_inline.backend_inline, which is a non-GUI backend, so cannot show the figure.\n",
            "  fig.show()\n"
          ]
        },
        {
          "name": "stdout",
          "output_type": "stream",
          "text": [
            "Epoch 60\n",
            "# accepted epochs:  [61. 61.]\n",
            "      model       L_train  acc_train     L_test  acc_test          wd\n",
            "24     Adam  4.877084e-08       5845  32.747226         0  484.082129\n",
            "25  Adam_WD  5.221386e-07       5812  29.162167         0  472.883398\n",
            "26      HMC  2.104332e-04       5723  29.636132         0  475.052441\n",
            "27   HMC_WD  5.221386e-07       5812  29.162167         0  472.883398\n"
          ]
        },
        {
          "name": "stderr",
          "output_type": "stream",
          "text": [
            "/var/folders/pw/6c492xhs4299155z1pvbwt8w0000gn/T/ipykernel_93492/2350782389.py:89: UserWarning: Matplotlib is currently using module://matplotlib_inline.backend_inline, which is a non-GUI backend, so cannot show the figure.\n",
            "  fig.show()\n"
          ]
        },
        {
          "name": "stdout",
          "output_type": "stream",
          "text": [
            "Epoch 70\n",
            "# accepted epochs:  [71. 71.]\n",
            "      model       L_train  acc_train     L_test  acc_test          wd\n",
            "28     Adam  4.471912e-08       5846  32.855726         0  484.140479\n",
            "29  Adam_WD  5.221386e-07       5812  29.162167         0  472.883398\n",
            "30      HMC  6.823377e-04       5710  29.682954         0  475.354004\n",
            "31   HMC_WD  5.221386e-07       5812  29.162167         0  472.883398\n"
          ]
        },
        {
          "name": "stderr",
          "output_type": "stream",
          "text": [
            "/var/folders/pw/6c492xhs4299155z1pvbwt8w0000gn/T/ipykernel_93492/2350782389.py:89: UserWarning: Matplotlib is currently using module://matplotlib_inline.backend_inline, which is a non-GUI backend, so cannot show the figure.\n",
            "  fig.show()\n"
          ]
        },
        {
          "name": "stdout",
          "output_type": "stream",
          "text": [
            "Epoch 80\n",
            "# accepted epochs:  [81. 81.]\n",
            "      model       L_train  acc_train     L_test  acc_test          wd\n",
            "32     Adam  4.181175e-08       5850  32.935748         0  484.100293\n",
            "33  Adam_WD  5.221386e-07       5812  29.162167         0  472.883398\n",
            "34      HMC  1.996109e-03       5681  29.706035         0  475.790527\n",
            "35   HMC_WD  5.221386e-07       5812  29.162167         0  472.883398\n"
          ]
        },
        {
          "name": "stderr",
          "output_type": "stream",
          "text": [
            "/var/folders/pw/6c492xhs4299155z1pvbwt8w0000gn/T/ipykernel_93492/2350782389.py:89: UserWarning: Matplotlib is currently using module://matplotlib_inline.backend_inline, which is a non-GUI backend, so cannot show the figure.\n",
            "  fig.show()\n"
          ]
        },
        {
          "name": "stdout",
          "output_type": "stream",
          "text": [
            "Epoch 90\n",
            "# accepted epochs:  [91. 91.]\n",
            "      model       L_train  acc_train     L_test  acc_test          wd\n",
            "36     Adam  3.958422e-08       5852  32.997487         0  483.997461\n",
            "37  Adam_WD  5.221386e-07       5812  29.162167         0  472.883398\n",
            "38      HMC  2.692414e-03       5642  29.849197         0  476.230469\n",
            "39   HMC_WD  5.221386e-07       5812  29.162167         0  472.883398\n"
          ]
        },
        {
          "name": "stderr",
          "output_type": "stream",
          "text": [
            "/var/folders/pw/6c492xhs4299155z1pvbwt8w0000gn/T/ipykernel_93492/2350782389.py:89: UserWarning: Matplotlib is currently using module://matplotlib_inline.backend_inline, which is a non-GUI backend, so cannot show the figure.\n",
            "  fig.show()\n"
          ]
        },
        {
          "name": "stdout",
          "output_type": "stream",
          "text": [
            "Epoch 100\n",
            "# accepted epochs:  [101. 101.]\n",
            "      model       L_train  acc_train     L_test  acc_test          wd\n",
            "40     Adam  3.779650e-08       5852  33.046343         0  483.850928\n",
            "41  Adam_WD  5.221386e-07       5812  29.162167         0  472.883398\n",
            "42      HMC  4.197217e-03       5659  29.870858         0  476.567773\n",
            "43   HMC_WD  5.221386e-07       5812  29.162167         0  472.883398\n"
          ]
        },
        {
          "name": "stderr",
          "output_type": "stream",
          "text": [
            "/var/folders/pw/6c492xhs4299155z1pvbwt8w0000gn/T/ipykernel_93492/2350782389.py:89: UserWarning: Matplotlib is currently using module://matplotlib_inline.backend_inline, which is a non-GUI backend, so cannot show the figure.\n",
            "  fig.show()\n"
          ]
        },
        {
          "name": "stdout",
          "output_type": "stream",
          "text": [
            "Epoch 110\n",
            "# accepted epochs:  [111. 111.]\n",
            "      model       L_train  acc_train     L_test  acc_test          wd\n",
            "44     Adam  3.632596e-08       5852  33.085918         0  483.671826\n",
            "45  Adam_WD  5.221386e-07       5812  29.162167         0  472.883398\n",
            "46      HMC  7.341858e-03       5641  29.913695         0  476.969434\n",
            "47   HMC_WD  5.221386e-07       5812  29.162167         0  472.883398\n"
          ]
        },
        {
          "name": "stderr",
          "output_type": "stream",
          "text": [
            "/var/folders/pw/6c492xhs4299155z1pvbwt8w0000gn/T/ipykernel_93492/2350782389.py:89: UserWarning: Matplotlib is currently using module://matplotlib_inline.backend_inline, which is a non-GUI backend, so cannot show the figure.\n",
            "  fig.show()\n"
          ]
        },
        {
          "name": "stdout",
          "output_type": "stream",
          "text": [
            "Epoch 120\n",
            "# accepted epochs:  [121. 121.]\n",
            "      model       L_train  acc_train     L_test  acc_test          wd\n",
            "48     Adam  3.508690e-08       5852  33.117936         0  483.466748\n",
            "49  Adam_WD  5.221386e-07       5812  29.162167         0  472.883398\n",
            "50      HMC  1.147506e-02       5614  29.984886         0  477.282861\n",
            "51   HMC_WD  5.221386e-07       5812  29.162167         0  472.883398\n"
          ]
        },
        {
          "name": "stderr",
          "output_type": "stream",
          "text": [
            "/var/folders/pw/6c492xhs4299155z1pvbwt8w0000gn/T/ipykernel_93492/2350782389.py:89: UserWarning: Matplotlib is currently using module://matplotlib_inline.backend_inline, which is a non-GUI backend, so cannot show the figure.\n",
            "  fig.show()\n"
          ]
        },
        {
          "name": "stdout",
          "output_type": "stream",
          "text": [
            "Epoch 130\n",
            "# accepted epochs:  [131. 131.]\n",
            "      model       L_train  acc_train     L_test  acc_test          wd\n",
            "52     Adam  3.403181e-08       5852  33.144025         0  483.240869\n",
            "53  Adam_WD  5.221386e-07       5812  29.162167         0  472.883398\n",
            "54      HMC  1.782501e-02       5595  30.086535         0  477.700293\n",
            "55   HMC_WD  5.221386e-07       5812  29.162167         0  472.883398\n"
          ]
        },
        {
          "name": "stderr",
          "output_type": "stream",
          "text": [
            "/var/folders/pw/6c492xhs4299155z1pvbwt8w0000gn/T/ipykernel_93492/2350782389.py:89: UserWarning: Matplotlib is currently using module://matplotlib_inline.backend_inline, which is a non-GUI backend, so cannot show the figure.\n",
            "  fig.show()\n"
          ]
        },
        {
          "name": "stdout",
          "output_type": "stream",
          "text": [
            "Epoch 140\n",
            "# accepted epochs:  [141. 141.]\n",
            "      model       L_train  acc_train     L_test  acc_test          wd\n",
            "56     Adam  3.312480e-08       5853  33.164725         0  482.997314\n",
            "57  Adam_WD  5.221386e-07       5812  29.162167         0  472.883398\n",
            "58      HMC  2.756809e-02       5562  30.164482         0  478.000049\n",
            "59   HMC_WD  5.221386e-07       5812  29.162167         0  472.883398\n"
          ]
        },
        {
          "name": "stderr",
          "output_type": "stream",
          "text": [
            "/var/folders/pw/6c492xhs4299155z1pvbwt8w0000gn/T/ipykernel_93492/2350782389.py:89: UserWarning: Matplotlib is currently using module://matplotlib_inline.backend_inline, which is a non-GUI backend, so cannot show the figure.\n",
            "  fig.show()\n"
          ]
        },
        {
          "name": "stdout",
          "output_type": "stream",
          "text": [
            "Epoch 150\n",
            "# accepted epochs:  [151. 151.]\n",
            "      model       L_train  acc_train     L_test  acc_test          wd\n",
            "60     Adam  3.234412e-08       5854  33.180899         0  482.738672\n",
            "61  Adam_WD  5.221386e-07       5812  29.162167         0  472.883398\n",
            "62      HMC  4.713847e-02       5493  30.301990         0  478.382422\n",
            "63   HMC_WD  5.221386e-07       5812  29.162167         0  472.883398\n"
          ]
        },
        {
          "name": "stderr",
          "output_type": "stream",
          "text": [
            "/var/folders/pw/6c492xhs4299155z1pvbwt8w0000gn/T/ipykernel_93492/2350782389.py:89: UserWarning: Matplotlib is currently using module://matplotlib_inline.backend_inline, which is a non-GUI backend, so cannot show the figure.\n",
            "  fig.show()\n"
          ]
        },
        {
          "name": "stdout",
          "output_type": "stream",
          "text": [
            "Epoch 160\n",
            "# accepted epochs:  [161. 161.]\n",
            "      model       L_train  acc_train     L_test  acc_test          wd\n",
            "64     Adam  3.165873e-08       5856  33.193219         0  482.467285\n",
            "65  Adam_WD  5.221386e-07       5812  29.162167         0  472.883398\n",
            "66      HMC  5.420325e-02       5460  30.431012         0  478.797314\n",
            "67   HMC_WD  5.221386e-07       5812  29.162167         0  472.883398\n"
          ]
        },
        {
          "name": "stderr",
          "output_type": "stream",
          "text": [
            "/var/folders/pw/6c492xhs4299155z1pvbwt8w0000gn/T/ipykernel_93492/2350782389.py:89: UserWarning: Matplotlib is currently using module://matplotlib_inline.backend_inline, which is a non-GUI backend, so cannot show the figure.\n",
            "  fig.show()\n"
          ]
        },
        {
          "ename": "KeyboardInterrupt",
          "evalue": "",
          "output_type": "error",
          "traceback": [
            "\u001b[0;31m---------------------------------------------------------------------------\u001b[0m",
            "\u001b[0;31mKeyboardInterrupt\u001b[0m                         Traceback (most recent call last)",
            "Cell \u001b[0;32mIn[16], line 54\u001b[0m\n\u001b[1;32m     51\u001b[0m x, y \u001b[39m=\u001b[39m x\u001b[39m.\u001b[39mto(DEVICE), y\u001b[39m.\u001b[39mto(DEVICE)\n\u001b[1;32m     53\u001b[0m \u001b[39mfor\u001b[39;00m k, model \u001b[39min\u001b[39;00m \u001b[39menumerate\u001b[39m(models):\n\u001b[0;32m---> 54\u001b[0m     out \u001b[39m=\u001b[39m model(x)\n\u001b[1;32m     55\u001b[0m     sm_argmax \u001b[39m=\u001b[39m nn\u001b[39m.\u001b[39mfunctional\u001b[39m.\u001b[39msoftmax(out, dim\u001b[39m=\u001b[39m\u001b[39m-\u001b[39m\u001b[39m1\u001b[39m)\u001b[39m.\u001b[39margmax(dim\u001b[39m=\u001b[39m\u001b[39m-\u001b[39m\u001b[39m1\u001b[39m)[:, \u001b[39m-\u001b[39m\u001b[39m1\u001b[39m]\u001b[39m.\u001b[39mdetach()\n\u001b[1;32m     57\u001b[0m     test_loss[k] \u001b[39m+\u001b[39m\u001b[39m=\u001b[39m loss_of_final_number(out, y)\u001b[39m.\u001b[39mitem()\n",
            "\u001b[0;31mKeyboardInterrupt\u001b[0m: "
          ]
        }
      ],
      "source": [
        "def wd(model: nn.Module, l=weight_decay):\n",
        "    return sum((p.norm() ** 2 for p in model.parameters())).item() * l\n",
        "\n",
        "train_loss = np.zeros(len(models))\n",
        "train_correct = np.zeros(len(models))\n",
        "\n",
        "accepted_epochs = np.zeros(2)\n",
        "save_every = 10\n",
        "\n",
        "for i in trange(n_epochs, desc=\"Epoch\"):\n",
        "    train_loss *= 0\n",
        "    train_correct *= 0\n",
        "\n",
        "    for j, (x, y) in enumerate(train_loader):\n",
        "        for k, (model, opt) in enumerate(zip(models, optimizers)):\n",
        "            x, y = x.to(DEVICE), y.to(DEVICE)\n",
        "            \n",
        "            out = model(x)\n",
        "            batch_loss = loss_of_final_number(out, y)\n",
        "            sm_argmax = nn.functional.softmax(out, dim=-1).argmax(dim=-1)[:, -1].detach()\n",
        "            \n",
        "            batch_loss.backward()\n",
        "\n",
        "            if k < 2:\n",
        "                opt.step()\n",
        "            else:\n",
        "                opt.step(batch_loss)\n",
        "\n",
        "            opt.zero_grad()\n",
        "            \n",
        "            train_correct[k] += (y == sm_argmax.view(-1)).sum().item()\n",
        "            train_loss[k] += batch_loss.item()\n",
        "\n",
        "    accepted_epochs[0] += 1. * optimizers[2].mh_check(torch.tensor(train_loss[2]))\n",
        "    accepted_epochs[1] += 1. * optimizers[3].mh_check(torch.tensor(train_loss[3]))\n",
        "\n",
        "    for k, (model, scheduler) in enumerate(zip(models, schedulers)):\n",
        "        df_min.loc[i * len(models) + k, \"L_train\"] = train_loss[k] / len(train_loader)\n",
        "        df_min.loc[i * len(models) + k, \"acc_train\"] = train_correct[k] / len(train_loader)\n",
        "        \n",
        "        scheduler.step()\n",
        "\n",
        "    if i % save_every == 0:\n",
        "        I = (i // save_every)\n",
        "        \n",
        "        test_loss = np.zeros(len(models))\n",
        "        test_correct = np.zeros(len(models))\n",
        "\n",
        "        # run a test every N iterations\n",
        "        for x, y in test_loader:\n",
        "            x, y = x.to(DEVICE), y.to(DEVICE)\n",
        "\n",
        "            for k, model in enumerate(models):\n",
        "                out = model(x)\n",
        "                sm_argmax = nn.functional.softmax(out, dim=-1).argmax(dim=-1)[:, -1].detach()\n",
        "                \n",
        "                test_loss[k] += loss_of_final_number(out, y).item()\n",
        "                train_correct[k] += (y == sm_argmax.view(-1)).sum().detach().item()\n",
        "        \n",
        "        for k, model in enumerate(models):\n",
        "            df_full.loc[I * len(models) + k, \"L_train\"] = train_loss[k] / len(train_loader)\n",
        "            df_full.loc[I * len(models) + k, \"acc_train\"] = train_correct[k] / len(train_loader)\n",
        "            df_full.loc[I * len(models) + k, \"L_test\"] = test_loss[k] / len(test_loader)\n",
        "            df_full.loc[I * len(models) + k, \"acc_test\"] = test_correct[k] / len(test_loader)\n",
        "            df_full.loc[I * len(models) + k, \"wd\"] = wd(model)\n",
        "            df_full.loc[I * len(models) + k, \"L_train_with_wd\"] = df_full.loc[I * len(models) + k, \"L_train\"] + df_full.loc[I * len(models) + k, \"wd\"]\n",
        "            df_full.loc[I * len(models) + k, \"L_test_with_wd\"] = df_full.loc[I * len(models) + k, \"L_test\"] + df_full.loc[I * len(models) + k, \"wd\"]\n",
        "\n",
        "        print(f\"Epoch {i}\")\n",
        "        print(\"# accepted epochs: \", accepted_epochs)\n",
        "        print(df_full.loc[I * len(models): (I + 1) * len(models) - 1, [\"model\", \"L_train\", \"acc_train\", \"L_test\", \"acc_test\", \"wd\"]])\n",
        "\n",
        "        # Plot the metrics for all the epochs so far (compare models on same plots)\n",
        "        # L_train next to L_loss; acc_train next to acc_test; L_train_with_wd next to L_test_with_wd; wd (2x width)\n",
        "\n",
        "        fig, axes = plt.subplots(4, 2, figsize=(12, 12))\n",
        "        axes_flattened = [ax for axes_row in axes for ax in axes_row]\n",
        "\n",
        "        for ax, metric in zip(axes_flattened, [\"L_train\", \"L_test\", \"acc_train\", \"acc_test\", \"L_train_with_wd\", \"L_test_with_wd\", \"wd\"]):\n",
        "            for name, model in zip(model_names, models):\n",
        "                model_data = df_full.copy().loc[df_full.model == name].loc[df_full.epoch <= I]\n",
        "                xs = model_data.epoch * save_every\n",
        "                ys = model_data[metric]\n",
        "                ax.plot(xs, ys, label=name)\n",
        "            \n",
        "            ax.set_title(metric)\n",
        "            ax.legend()\n",
        "\n",
        "        fig.show()\n",
        "\n"
      ]
    },
    {
      "cell_type": "code",
      "execution_count": null,
      "metadata": {},
      "outputs": [],
      "source": []
    }
  ],
  "metadata": {
    "accelerator": "GPU",
    "colab": {
      "provenance": []
    },
    "gpuClass": "standard",
    "kernelspec": {
      "display_name": "notes",
      "language": "python",
      "name": "python3"
    },
    "language_info": {
      "codemirror_mode": {
        "name": "ipython",
        "version": 3
      },
      "file_extension": ".py",
      "mimetype": "text/x-python",
      "name": "python",
      "nbconvert_exporter": "python",
      "pygments_lexer": "ipython3",
      "version": "3.9.15"
    },
    "vscode": {
      "interpreter": {
        "hash": "10e632b798d4d368e3d8cd91eeec2b91ea4b8c349bc8b89a8c3db002c19b56bb"
      }
    }
  },
  "nbformat": 4,
  "nbformat_minor": 0
}
